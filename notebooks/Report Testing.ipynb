{
 "cells": [
  {
   "cell_type": "code",
   "execution_count": null,
   "id": "f6cdeed4-f535-44c7-b258-623685892a11",
   "metadata": {},
   "outputs": [],
   "source": [
    "from keras.models import load_model\n",
    "import numpy as np\n",
    "from tensorflow.keras.preprocessing import image\n",
    "\n",
    "model = load_model(r'G:\\Medical Model\\Models\\C_WDA_1.h5')"
   ]
  },
  {
   "cell_type": "code",
   "execution_count": null,
   "id": "19be750e-7b63-4a1b-8784-2a66cb059518",
   "metadata": {},
   "outputs": [],
   "source": [
    "from tensorflow.keras.preprocessing.image import ImageDataGenerator\n",
    "\n",
    "test_datagen = ImageDataGenerator(rescale=1./255)\n",
    "\n",
    "test_generator = test_datagen.flow_from_directory(\n",
    "    \"G:/Medical Model/data/test\",\n",
    "    target_size=(256, 256),\n",
    "    batch_size=32,\n",
    "    class_mode=\"binary\",\n",
    "    shuffle=False\n",
    ")"
   ]
  },
  {
   "cell_type": "markdown",
   "id": "ca393c1e-c416-4f99-94ee-e8339900ba63",
   "metadata": {},
   "source": [
    "#### Accuracy and Loss Test!"
   ]
  },
  {
   "cell_type": "code",
   "execution_count": null,
   "id": "1f4d677f-1c0b-4660-87c6-f371afa390f2",
   "metadata": {},
   "outputs": [],
   "source": [
    "test_loss, test_accuracy = model.evaluate(test_generator)\n",
    "print(f\"Test Accuracy: {test_accuracy * 100:.2f}%\")\n",
    "print(f\"Test Loss: {test_loss:.4f}\")"
   ]
  },
  {
   "cell_type": "markdown",
   "id": "62bfae23-2ba0-4e6a-b1ed-0da07d463cd2",
   "metadata": {},
   "source": [
    "#### Image Predictions"
   ]
  },
  {
   "cell_type": "code",
   "execution_count": null,
   "id": "b22e74e8-fd46-4e67-a866-a50c6e2b9a76",
   "metadata": {
    "scrolled": true
   },
   "outputs": [],
   "source": [
    "import numpy as np\n",
    "\n",
    "predictions = model.predict(test_generator)\n",
    "\n",
    "predicted_classes = (predictions > 0.5).astype(int)\n",
    "\n",
    "actual_classes = test_generator.classes\n",
    "class_labels = list(test_generator.class_indices.keys())\n",
    "\n",
    "for i, (pred, actual) in enumerate(zip(predicted_classes, actual_classes)):\n",
    "    print(f\"Image {i+1}: Predicted = {class_labels[pred[0]]}, Actual = {class_labels[actual]}\")"
   ]
  },
  {
   "cell_type": "markdown",
   "id": "decf9e2d-0fed-47b8-828c-e228d644aa12",
   "metadata": {},
   "source": [
    "#### Report!"
   ]
  },
  {
   "cell_type": "code",
   "execution_count": null,
   "id": "77afd8a7-67a1-4136-b036-f1afe8731f22",
   "metadata": {},
   "outputs": [],
   "source": [
    "from sklearn.metrics import classification_report\n",
    "\n",
    "print(classification_report(actual_classes, predicted_classes, target_names=class_labels))"
   ]
  }
 ],
 "metadata": {
  "kernelspec": {
   "display_name": "Python 3 (ipykernel)",
   "language": "python",
   "name": "python3"
  },
  "language_info": {
   "codemirror_mode": {
    "name": "ipython",
    "version": 3
   },
   "file_extension": ".py",
   "mimetype": "text/x-python",
   "name": "python",
   "nbconvert_exporter": "python",
   "pygments_lexer": "ipython3",
   "version": "3.9.13"
  }
 },
 "nbformat": 4,
 "nbformat_minor": 5
}
